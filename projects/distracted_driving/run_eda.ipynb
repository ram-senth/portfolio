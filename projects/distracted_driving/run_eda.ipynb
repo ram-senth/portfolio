{
 "cells": [
  {
   "cell_type": "markdown",
   "id": "4669f297-d659-453d-a2e2-551c36fe10bf",
   "metadata": {
    "tags": []
   },
   "source": [
    "# Introduction\n",
    "Feature extraction is a time intensive effort and hence we have isolated all steps of feature extraction to this notebook. Once the feature extraction is done, we will use the [W281_Fall_2022_Final_Report_Driver_Behavior_Detection](W281_Fall_2022_Final_Report_Driver_Behavior_Detection.ipynb) notebook for feature analysis, model training and model evaluation.\n",
    "## Prerequisites For This Notebook\n",
    "This notebook needs that all depedencies are installed. Please follow the steps in [Readme](../README.md) for setting up the environment and installing dependencies."
   ]
  },
  {
   "cell_type": "markdown",
   "id": "889948d0-dcc1-42a3-b360-9f0210e8284f",
   "metadata": {
    "tags": []
   },
   "source": [
    "## Step 0: Notebook Initialization"
   ]
  },
  {
   "cell_type": "code",
   "execution_count": 1,
   "id": "cee50a6e-f278-422d-ba2d-c844ab37a4d6",
   "metadata": {},
   "outputs": [],
   "source": [
    "%load_ext autoreload\n",
    "%autoreload 2\n",
    "%matplotlib inline"
   ]
  },
  {
   "cell_type": "code",
   "execution_count": 6,
   "id": "24e00710-fca8-41ce-8319-56209c1d1503",
   "metadata": {},
   "outputs": [],
   "source": [
    "import time\n",
    "import os\n",
    "from tqdm.notebook import tqdm\n",
    "from collections import defaultdict\n",
    "\n",
    "import numpy as np\n",
    "import pandas as pd\n",
    "\n",
    "import seaborn as sns\n",
    "from matplotlib import pyplot as plt\n",
    "import matplotlib.ticker as ticker\n",
    "import matplotlib\n",
    "\n",
    "import cv2 as cv\n",
    "import torch\n",
    "from torchvision import transforms\n",
    "\n",
    "import transformers\n",
    "import eda_helpers\n",
    "import feature_helpers\n",
    "import viz\n",
    "import configuration\n",
    "import customdataset\n",
    "import enums\n",
    "\n",
    "device = 'cpu'\n",
    "config = configuration.Configuration()\n",
    "face_config = configuration.FaceConfig(config)\n",
    "pose_config = configuration.PoseConfig(config)\n",
    "vizualizer = viz.Vizualizer(config, face_config, pose_config, tqdm=tqdm)\n",
    "feature_extractor = feature_helpers.FeatureExtractor(config, face_config, pose_config, tqdm)\n",
    "\n",
    "IMAGE_TYPES = [enums.ImageTypes.ORIGINAL, enums.ImageTypes.POSE, enums.ImageTypes.FACE]"
   ]
  },
  {
   "cell_type": "markdown",
   "id": "c48b4486-2111-41ce-ae7f-4afa7f3d9ab1",
   "metadata": {
    "tags": []
   },
   "source": [
    "## Step 1: Face Extraction\n",
    "We will use pre-trained Multi-task Cascaded Convolutional Networks model[<sup>1</sup>](#cite_mtcnn) to extract faces from our images. The MTCNN model uses 3 stages:\n",
    "* Stage 1: The Proposal Network (P-Net), a fully connected network, that predicts bounding boxes around faces in the image\n",
    "* Stage 2: The Refine Network (R-Net), a CNN with dense layer to predict if the boxes identified by P-Net has a face or not\n",
    "* Stage 3: The Output Network (O-Net), another CNN that outputs the 5 facial keypoints.\n"
   ]
  },
  {
   "cell_type": "code",
   "execution_count": 3,
   "id": "821f84fa-b7fb-4099-9f44-a608e89daeb1",
   "metadata": {},
   "outputs": [
    {
     "data": {
      "application/vnd.jupyter.widget-view+json": {
       "model_id": "f25e2e2ee0794c369ca085a5a9b2e714",
       "version_major": 2,
       "version_minor": 0
      },
      "text/plain": [
       "  0%|          | 0/22424 [00:00<?, ?files/s]"
      ]
     },
     "metadata": {},
     "output_type": "display_data"
    },
    {
     "name": "stdout",
     "output_type": "stream",
     "text": [
      "CPU times: user 4h 51min 18s, sys: 17min 23s, total: 5h 8min 41s\n",
      "Wall time: 52min 57s\n"
     ]
    }
   ],
   "source": [
    "%%time\n",
    "# Extract face from each image. Takes a few hours to run.\n",
    "def extract_faces():\n",
    "    eda_helpers.FaceExtractor(config, tqdm).extract_faces(face_config.FEATURES_FOLDER, face_config.FACE_SUMMARY_NAME, config.ANNOTATION_FILE)\n",
    "extract_faces() # Commented out as this takes a long time to run on our 20,000+ images."
   ]
  },
  {
   "cell_type": "markdown",
   "id": "8a3dbf4d-09e7-4daa-8313-9992836cd11b",
   "metadata": {
    "tags": []
   },
   "source": [
    "## Step 2: Train-Test-Validation Split\n",
    "Our training dataset has 22,000+ 640x480x3 color images. In order to iterate faster, we decided to limit the dataset to only those images for which MTCNN model was able to identify faces. This brought our data set to about 600 images per class. We applied 80-20-20 split and created the train-validation-test splits. This also helped make our next step of pose detection more manageable."
   ]
  },
  {
   "cell_type": "code",
   "execution_count": 4,
   "id": "9632eb5f-4153-4ba3-ab34-ccaaba0b7b71",
   "metadata": {},
   "outputs": [
    {
     "name": "stdout",
     "output_type": "stream",
     "text": [
      "Total samples: 22424\n"
     ]
    },
    {
     "data": {
      "application/vnd.jupyter.widget-view+json": {
       "model_id": "c3e0eb4313054d05ab0f6f2e38888163",
       "version_major": 2,
       "version_minor": 0
      },
      "text/plain": [
       "  0%|          | 0/6000 [00:00<?, ?file/s]"
      ]
     },
     "metadata": {},
     "output_type": "display_data"
    },
    {
     "name": "stdout",
     "output_type": "stream",
     "text": [
      "Validating and saving the split-up...\n",
      "Created 4800 training samples\n",
      "Created 600 validation samples\n",
      "Created 600 testing samples\n",
      "Left with 16424 unused samples\n"
     ]
    }
   ],
   "source": [
    "def split_dataset():\n",
    "    splitter = eda_helpers.SampleSplitter(config, face_config, pose_config, tqdm=tqdm)\n",
    "    splitter.sample(config.class_dict.keys(), samples_per_class=[600, 480, 60, 60], out_file=config.ANNOTATION_FILE)\n",
    "\n",
    "split_dataset() # We have commented this code out as this is an one time task."
   ]
  },
  {
   "cell_type": "markdown",
   "id": "d1aa72fd-5ee1-44cd-97bb-1c7a9cacca54",
   "metadata": {
    "tags": []
   },
   "source": [
    "## Step 3: Pose Detection For Train-Test-Validation Splits\n",
    "Our intution is that the pose of the driver can be used to differentiate the classes. In order to build pose based features we want to extract human pose from the images using Google's [Movenet model](https://www.tensorflow.org/hub/tutorials/movenet) which is based on MobileNetV2[<sup>2</sup>](#cite_mobilenet). \n",
    "\n",
    "Each image is padded and resized to 192x192 pixels, as needed by the lightning version of [Tensorflow MoveNet model](https://www.tensorflow.org/hub/tutorials/movenet). Inference yields the coordinates and the associated scores of each key point detected."
   ]
  },
  {
   "cell_type": "code",
   "execution_count": 11,
   "id": "0acab85b-4c59-4c0f-8b4f-57d4c68aad8b",
   "metadata": {},
   "outputs": [
    {
     "name": "stdout",
     "output_type": "stream",
     "text": [
      "Switching MatPlotLib backend from agg to Agg\n",
      "Loading model...\n"
     ]
    },
    {
     "data": {
      "application/vnd.jupyter.widget-view+json": {
       "model_id": "af6bc71cfe214151869b5b09da7e71c9",
       "version_major": 2,
       "version_minor": 0
      },
      "text/plain": [
       "  0%|          | 0/6000 [00:00<?, ?it/s]"
      ]
     },
     "metadata": {},
     "output_type": "display_data"
    },
    {
     "name": "stdout",
     "output_type": "stream",
     "text": [
      "CPU times: user 14.1 s, sys: 2.12 s, total: 16.2 s\n",
      "Wall time: 18 s\n"
     ]
    }
   ],
   "source": [
    "%%time\n",
    "def extract_pose():\n",
    "    original_backend = matplotlib.get_backend()\n",
    "    print(f'Switching MatPlotLib backend from {original_backend} to Agg')\n",
    "    # Pose extraction uses plt's canvas. We need a non-interactive backend to avoid memory leaks.\n",
    "    matplotlib.use('Agg')\n",
    "    pose_extractor = eda_helpers.PoseExtractor(config, face_config, pose_config, tqdm)\n",
    "    pose_extractor.extract_poses(pose_config.FEATURES_FOLDER, pose_config.SUMMARY_NAME)\n",
    "    matplotlib.use(original_backend)\n",
    "\n",
    "extract_pose() #Takes long time"
   ]
  },
  {
   "cell_type": "code",
   "execution_count": 12,
   "id": "6684ed80-3ae7-4dc6-a4b3-51cae66a0ad5",
   "metadata": {},
   "outputs": [],
   "source": [
    "%matplotlib inline\n",
    "\n",
    "# Switch matplotlib's backend to default backend just in case the last cell left it changed."
   ]
  },
  {
   "cell_type": "markdown",
   "id": "1e279c55-322d-421c-a813-70b03990e249",
   "metadata": {
    "tags": []
   },
   "source": [
    "## Step 4: Generate Feature Vectors"
   ]
  },
  {
   "cell_type": "code",
   "execution_count": 14,
   "id": "992981a0-f705-4247-8999-7f41a94e0496",
   "metadata": {},
   "outputs": [
    {
     "data": {
      "application/vnd.jupyter.widget-view+json": {
       "model_id": "0b543bb1210545889620a4330ab5342c",
       "version_major": 2,
       "version_minor": 0
      },
      "text/plain": [
       "Loading 6000 samples:   0%|          | 0/6000 [00:00<?, ?samples/s]"
      ]
     },
     "metadata": {},
     "output_type": "display_data"
    },
    {
     "name": "stdout",
     "output_type": "stream",
     "text": [
      "CPU times: user 7min 44s, sys: 1min 21s, total: 9min 6s\n",
      "Wall time: 1min 35s\n"
     ]
    }
   ],
   "source": [
    "%%time  \n",
    "# faces, original_images, poses, y, filenames = load_data(30, other_types=[enums.ImageTypes.ORIGINAL, enums.ImageTypes.POSE, enums.ImageTypes.FACE], included_labels=config.included_labels)\n",
    "feature_extractor = feature_helpers.FeatureExtractor(config, face_config, pose_config, tqdm)\n",
    "data = feature_extractor.load_data(image_types=IMAGE_TYPES, sample_type=enums.SampleType.TRAIN_TEST_VALIDATION, shuffle=True)"
   ]
  },
  {
   "cell_type": "code",
   "execution_count": 15,
   "id": "7fb75a32-b4bd-4eaa-b433-efe266fde75f",
   "metadata": {},
   "outputs": [
    {
     "data": {
      "application/vnd.jupyter.widget-view+json": {
       "model_id": "c1b6002504d1460d9804c74d0f2aa1d9",
       "version_major": 2,
       "version_minor": 0
      },
      "text/plain": [
       "Building HOG Features:   0%|          | 0/6000 [00:00<?, ?images/s]"
      ]
     },
     "metadata": {},
     "output_type": "display_data"
    },
    {
     "name": "stdout",
     "output_type": "stream",
     "text": [
      "CPU times: user 2min 44s, sys: 3.19 s, total: 2min 47s\n",
      "Wall time: 2min 50s\n"
     ]
    }
   ],
   "source": [
    "%%time\n",
    "hog_features, hogs = feature_extractor.get_hog_features(data[enums.ImageTypes.FACE.name.lower()])"
   ]
  },
  {
   "cell_type": "code",
   "execution_count": 16,
   "id": "62ab2d5f-9ab0-401f-a589-48d622240663",
   "metadata": {},
   "outputs": [
    {
     "data": {
      "application/vnd.jupyter.widget-view+json": {
       "model_id": "73527d9b54e645029fa9056732a19b04",
       "version_major": 2,
       "version_minor": 0
      },
      "text/plain": [
       "Building Pixel Features:   0%|          | 0/6000 [00:00<?, ?images/s]"
      ]
     },
     "metadata": {},
     "output_type": "display_data"
    },
    {
     "name": "stdout",
     "output_type": "stream",
     "text": [
      "CPU times: user 583 ms, sys: 631 ms, total: 1.21 s\n",
      "Wall time: 1.27 s\n"
     ]
    }
   ],
   "source": [
    "%%time\n",
    "pixel_features = feature_extractor.get_pixel_features(data[enums.ImageTypes.FACE.name.lower()])"
   ]
  },
  {
   "cell_type": "code",
   "execution_count": 17,
   "id": "56ca0238-ff91-487b-af89-069bd685b135",
   "metadata": {},
   "outputs": [
    {
     "data": {
      "application/vnd.jupyter.widget-view+json": {
       "model_id": "c43a375385244500b17cd55f5cf630e3",
       "version_major": 2,
       "version_minor": 0
      },
      "text/plain": [
       "Building ResNet152 Features:   0%|          | 0/6000 [00:00<?, ?images/s]"
      ]
     },
     "metadata": {},
     "output_type": "display_data"
    },
    {
     "name": "stdout",
     "output_type": "stream",
     "text": [
      "CPU times: user 1h 50min 8s, sys: 21min 21s, total: 2h 11min 30s\n",
      "Wall time: 22min 50s\n"
     ]
    }
   ],
   "source": [
    "%%time\n",
    "# GPU does not seems to help much.\n",
    "cnn_features = feature_extractor.get_cnn_features(data[enums.ImageTypes.ORIGINAL.name.lower()], device='cpu')"
   ]
  },
  {
   "cell_type": "code",
   "execution_count": 18,
   "id": "c0a283df-7828-40c2-841b-78823a7efe4f",
   "metadata": {},
   "outputs": [
    {
     "data": {
      "application/vnd.jupyter.widget-view+json": {
       "model_id": "9a376663de5b4a8398b3adef45c451a7",
       "version_major": 2,
       "version_minor": 0
      },
      "text/plain": [
       "Building Edge Features:   0%|          | 0/6000 [00:00<?, ?images/s]"
      ]
     },
     "metadata": {},
     "output_type": "display_data"
    },
    {
     "name": "stdout",
     "output_type": "stream",
     "text": [
      "CPU times: user 4.38 s, sys: 2.82 s, total: 7.2 s\n",
      "Wall time: 4.53 s\n"
     ]
    }
   ],
   "source": [
    "%%time\n",
    "canny_features, cannies = feature_extractor.get_canny_features(data[enums.ImageTypes.FACE.name.lower()])"
   ]
  },
  {
   "cell_type": "code",
   "execution_count": 19,
   "id": "e68d4777-94f7-430f-988e-a1756b9998c6",
   "metadata": {},
   "outputs": [
    {
     "data": {
      "application/vnd.jupyter.widget-view+json": {
       "model_id": "7b67e45956f345b8afcdb0a81968bc34",
       "version_major": 2,
       "version_minor": 0
      },
      "text/plain": [
       "Building Pixel Features:   0%|          | 0/6000 [00:00<?, ?images/s]"
      ]
     },
     "metadata": {},
     "output_type": "display_data"
    },
    {
     "name": "stdout",
     "output_type": "stream",
     "text": [
      "CPU times: user 1.68 s, sys: 3.35 s, total: 5.04 s\n",
      "Wall time: 6.89 s\n"
     ]
    }
   ],
   "source": [
    "%%time\n",
    "pose_features = feature_extractor.get_pixel_features(data[enums.ImageTypes.POSE.name.lower()])"
   ]
  },
  {
   "cell_type": "code",
   "execution_count": 20,
   "id": "03aee12d-1e2d-4aa8-ab61-5f344f98d41c",
   "metadata": {
    "scrolled": true,
    "tags": []
   },
   "outputs": [
    {
     "data": {
      "application/vnd.jupyter.widget-view+json": {
       "model_id": "211a5ec191274f34828b2b48f32c83c5",
       "version_major": 2,
       "version_minor": 0
      },
      "text/plain": [
       "Loading 6000 samples:   0%|          | 0/6000 [00:00<?, ?samples/s]"
      ]
     },
     "metadata": {},
     "output_type": "display_data"
    },
    {
     "data": {
      "application/vnd.jupyter.widget-view+json": {
       "model_id": "893793bbd1ca4602836d02e26eb2caa5",
       "version_major": 2,
       "version_minor": 0
      },
      "text/plain": [
       "Building Body-Part Features:   0%|          | 0/6000 [00:00<?, ?images/s]"
      ]
     },
     "metadata": {},
     "output_type": "display_data"
    },
    {
     "name": "stderr",
     "output_type": "stream",
     "text": [
      "/Users/rasentha/mids/ram-senth/projects/distracted_driving/notebooks/feature_helpers.py:138: RankWarning: Polyfit may be poorly conditioned\n",
      "  left_arm_feature, l_exists = self._get_bp_feature_for([255, 115, 75], channel_1) # (255, 115, 75) is color for left arm\n",
      "/Users/rasentha/mids/ram-senth/projects/distracted_driving/notebooks/feature_helpers.py:138: RankWarning: Polyfit may be poorly conditioned\n",
      "  left_arm_feature, l_exists = self._get_bp_feature_for([255, 115, 75], channel_1) # (255, 115, 75) is color for left arm\n",
      "/Users/rasentha/mids/ram-senth/projects/distracted_driving/notebooks/feature_helpers.py:138: RankWarning: Polyfit may be poorly conditioned\n",
      "  left_arm_feature, l_exists = self._get_bp_feature_for([255, 115, 75], channel_1) # (255, 115, 75) is color for left arm\n",
      "/Users/rasentha/mids/ram-senth/projects/distracted_driving/notebooks/feature_helpers.py:138: RankWarning: Polyfit may be poorly conditioned\n",
      "  left_arm_feature, l_exists = self._get_bp_feature_for([255, 115, 75], channel_1) # (255, 115, 75) is color for left arm\n",
      "/Users/rasentha/mids/ram-senth/projects/distracted_driving/notebooks/feature_helpers.py:138: RankWarning: Polyfit may be poorly conditioned\n",
      "  left_arm_feature, l_exists = self._get_bp_feature_for([255, 115, 75], channel_1) # (255, 115, 75) is color for left arm\n",
      "/Users/rasentha/mids/ram-senth/projects/distracted_driving/notebooks/feature_helpers.py:138: RankWarning: Polyfit may be poorly conditioned\n",
      "  left_arm_feature, l_exists = self._get_bp_feature_for([255, 115, 75], channel_1) # (255, 115, 75) is color for left arm\n",
      "/Users/rasentha/mids/ram-senth/projects/distracted_driving/notebooks/feature_helpers.py:138: RankWarning: Polyfit may be poorly conditioned\n",
      "  left_arm_feature, l_exists = self._get_bp_feature_for([255, 115, 75], channel_1) # (255, 115, 75) is color for left arm\n",
      "/Users/rasentha/mids/ram-senth/projects/distracted_driving/notebooks/feature_helpers.py:138: RankWarning: Polyfit may be poorly conditioned\n",
      "  left_arm_feature, l_exists = self._get_bp_feature_for([255, 115, 75], channel_1) # (255, 115, 75) is color for left arm\n",
      "/Users/rasentha/mids/ram-senth/projects/distracted_driving/notebooks/feature_helpers.py:138: RankWarning: Polyfit may be poorly conditioned\n",
      "  left_arm_feature, l_exists = self._get_bp_feature_for([255, 115, 75], channel_1) # (255, 115, 75) is color for left arm\n",
      "/Users/rasentha/mids/ram-senth/projects/distracted_driving/notebooks/feature_helpers.py:138: RankWarning: Polyfit may be poorly conditioned\n",
      "  left_arm_feature, l_exists = self._get_bp_feature_for([255, 115, 75], channel_1) # (255, 115, 75) is color for left arm\n",
      "/Users/rasentha/mids/ram-senth/projects/distracted_driving/notebooks/feature_helpers.py:138: RankWarning: Polyfit may be poorly conditioned\n",
      "  left_arm_feature, l_exists = self._get_bp_feature_for([255, 115, 75], channel_1) # (255, 115, 75) is color for left arm\n",
      "/Users/rasentha/mids/ram-senth/projects/distracted_driving/notebooks/feature_helpers.py:138: RankWarning: Polyfit may be poorly conditioned\n",
      "  left_arm_feature, l_exists = self._get_bp_feature_for([255, 115, 75], channel_1) # (255, 115, 75) is color for left arm\n",
      "/Users/rasentha/mids/ram-senth/projects/distracted_driving/notebooks/feature_helpers.py:138: RankWarning: Polyfit may be poorly conditioned\n",
      "  left_arm_feature, l_exists = self._get_bp_feature_for([255, 115, 75], channel_1) # (255, 115, 75) is color for left arm\n",
      "/Users/rasentha/mids/ram-senth/projects/distracted_driving/notebooks/feature_helpers.py:139: RankWarning: Polyfit may be poorly conditioned\n",
      "  right_arm_feature, r_exists = self._get_bp_feature_for([255, 140, 56], channel_1) # (255, 140, 56) is color for right arm\n",
      "/Users/rasentha/mids/ram-senth/projects/distracted_driving/notebooks/feature_helpers.py:138: RankWarning: Polyfit may be poorly conditioned\n",
      "  left_arm_feature, l_exists = self._get_bp_feature_for([255, 115, 75], channel_1) # (255, 115, 75) is color for left arm\n",
      "/Users/rasentha/mids/ram-senth/projects/distracted_driving/notebooks/feature_helpers.py:139: RankWarning: Polyfit may be poorly conditioned\n",
      "  right_arm_feature, r_exists = self._get_bp_feature_for([255, 140, 56], channel_1) # (255, 140, 56) is color for right arm\n",
      "/Users/rasentha/mids/ram-senth/projects/distracted_driving/notebooks/feature_helpers.py:139: RankWarning: Polyfit may be poorly conditioned\n",
      "  right_arm_feature, r_exists = self._get_bp_feature_for([255, 140, 56], channel_1) # (255, 140, 56) is color for right arm\n",
      "/Users/rasentha/mids/ram-senth/projects/distracted_driving/notebooks/feature_helpers.py:139: RankWarning: Polyfit may be poorly conditioned\n",
      "  right_arm_feature, r_exists = self._get_bp_feature_for([255, 140, 56], channel_1) # (255, 140, 56) is color for right arm\n",
      "/Users/rasentha/mids/ram-senth/projects/distracted_driving/notebooks/feature_helpers.py:138: RankWarning: Polyfit may be poorly conditioned\n",
      "  left_arm_feature, l_exists = self._get_bp_feature_for([255, 115, 75], channel_1) # (255, 115, 75) is color for left arm\n",
      "/Users/rasentha/mids/ram-senth/projects/distracted_driving/notebooks/feature_helpers.py:138: RankWarning: Polyfit may be poorly conditioned\n",
      "  left_arm_feature, l_exists = self._get_bp_feature_for([255, 115, 75], channel_1) # (255, 115, 75) is color for left arm\n",
      "/Users/rasentha/mids/ram-senth/projects/distracted_driving/notebooks/feature_helpers.py:138: RankWarning: Polyfit may be poorly conditioned\n",
      "  left_arm_feature, l_exists = self._get_bp_feature_for([255, 115, 75], channel_1) # (255, 115, 75) is color for left arm\n",
      "/Users/rasentha/mids/ram-senth/projects/distracted_driving/notebooks/feature_helpers.py:138: RankWarning: Polyfit may be poorly conditioned\n",
      "  left_arm_feature, l_exists = self._get_bp_feature_for([255, 115, 75], channel_1) # (255, 115, 75) is color for left arm\n"
     ]
    },
    {
     "name": "stdout",
     "output_type": "stream",
     "text": [
      "CPU times: user 1h 22min 34s, sys: 7min 17s, total: 1h 29min 51s\n",
      "Wall time: 15min 28s\n"
     ]
    }
   ],
   "source": [
    "%%time\n",
    "# Generate the arms position and orientation features\n",
    "_ = feature_extractor.get_body_part_features(out_csv='body_parts_feat.csv')"
   ]
  },
  {
   "cell_type": "code",
   "execution_count": 22,
   "id": "f9393e78-fba2-4666-9382-99d37cd1f0ef",
   "metadata": {},
   "outputs": [
    {
     "data": {
      "application/vnd.jupyter.widget-view+json": {
       "model_id": "ff4c3a78ba2a4b87bfb7b438d6dadc67",
       "version_major": 2,
       "version_minor": 0
      },
      "text/plain": [
       "Getting eye counts:   0%|          | 0/6000 [00:00<?, ?images/s]"
      ]
     },
     "metadata": {},
     "output_type": "display_data"
    }
   ],
   "source": [
    "eye_count = feature_extractor.detect_eyes(config.TRAIN_DATA, data[enums.DataColumn.LABEL.name.lower()], data[enums.DataColumn.FILENAME.name.lower()])"
   ]
  },
  {
   "cell_type": "code",
   "execution_count": 23,
   "id": "099c9f59-57b9-4eea-bfe5-c9f44d110608",
   "metadata": {},
   "outputs": [
    {
     "name": "stdout",
     "output_type": "stream",
     "text": [
      "0: 4711, 1: 1148, 2: 131\n"
     ]
    }
   ],
   "source": [
    "def eye_summary(eye_count):\n",
    "    df = pd.DataFrame(eye_count, columns=['count'])\n",
    "    print(f'0: {df[df[\"count\"] == 0].shape[0]}, 1: {df[df[\"count\"] == 1].shape[0]}, 2: {df[df[\"count\"] == 2].shape[0]}')\n",
    "          \n",
    "eye_summary(eye_count)"
   ]
  },
  {
   "cell_type": "code",
   "execution_count": 24,
   "id": "2faf12b8-f242-4094-9314-22b14e831372",
   "metadata": {},
   "outputs": [
    {
     "data": {
      "application/vnd.jupyter.widget-view+json": {
       "model_id": "50f88f5d6498463088d08ca189be2c06",
       "version_major": 2,
       "version_minor": 0
      },
      "text/plain": [
       "Saving feature vectors:   0%|          | 0/6000 [00:00<?, ?images/s]"
      ]
     },
     "metadata": {},
     "output_type": "display_data"
    },
    {
     "name": "stdout",
     "output_type": "stream",
     "text": [
      "CPU times: user 10.7 s, sys: 30.6 s, total: 41.3 s\n",
      "Wall time: 48.5 s\n"
     ]
    }
   ],
   "source": [
    "%%time\n",
    "# Save the generated feature vectors.\n",
    "features_list = [pixel_features, hog_features, cnn_features, canny_features, pose_features, None]\n",
    "feature_extractor.save_feature_vectors(config.FEATURE_VECTORS_FOLDER, data['filename'], data['label'], features_list)"
   ]
  },
  {
   "cell_type": "code",
   "execution_count": 25,
   "id": "bdcbef6e-2bd8-491e-ab7c-9f0c5ecb2001",
   "metadata": {},
   "outputs": [
    {
     "name": "stdout",
     "output_type": "stream",
     "text": [
      "Loaded 6000 samples.\n",
      "hog_features:(6000, 5776), hog_features.min:0.0, hog_features.max:1.0\n",
      "pixel_features:(6000, 25600), pixel_features.min:0.0, pixel_features.max:0.9999000430107117\n",
      "cnn_features:(6000, 2048), cnn_features.min:0.0, cnn_features.max:1.6112374067306519\n",
      "canny_features:(6000, 25600), canny_features.min:0, canny_features.max:255\n",
      "pose_features:(6000, 65536), pose_features.min:0.0, pose_features.max:0.6640035510063171\n",
      "\n"
     ]
    }
   ],
   "source": [
    "print(f'Loaded {data.shape[0]} samples.')\n",
    "print(f'hog_features:{hog_features.shape}, hog_features.min:{np.min(hog_features)}, hog_features.max:{np.max(hog_features)}')\n",
    "print(f'pixel_features:{pixel_features.shape}, pixel_features.min:{np.min(pixel_features)}, pixel_features.max:{np.max(pixel_features)}')\n",
    "print(f'cnn_features:{cnn_features.shape}, cnn_features.min:{np.min(cnn_features)}, cnn_features.max:{np.max(cnn_features)}')\n",
    "print(f'canny_features:{canny_features.shape}, canny_features.min:{np.min(canny_features)}, canny_features.max:{np.max(canny_features)}')\n",
    "print(f'pose_features:{pose_features.shape}, pose_features.min:{np.min(pose_features)}, pose_features.max:{np.max(pose_features)}')\n",
    "# print(f'body_parts_features.min:{np.min(body_parts_features)}, body_parts_features.max:{np.max(body_parts_features)}')\n",
    "print()\n"
   ]
  },
  {
   "cell_type": "markdown",
   "id": "f62c02b8-20df-4244-abc3-0b0a56247c35",
   "metadata": {},
   "source": [
    "## References\n",
    "<span id=\"cite_mtcnn\">X. He, P. Wang, Z. Zhao, Y. Zhao and F. Su, \"MTCNN with Weighted Loss Penalty and Adaptive Threshold Learning for Facial Attribute Prediction,\" 2019 IEEE International Conference on Multimedia & Expo Workshops (ICMEW), 2019, pp. 180-185, doi: 10.1109/ICMEW.2019.00-90.</span>\n",
    "\n",
    "<span id=\"cite_mobilenet\">Sandler, M., Howard, A., Zhu, M., et al. (2018) Mobilenetv2: Inverted Residuals and Linear Bottlenecks. Proceedings of the IEEE Conference on Computer Vision and Pattern Recognition, Salt Lake City, 18-23 June 2018, 4510-4520.\n",
    "https://doi.org/10.1109/CVPR.2018.00474</span>"
   ]
  },
  {
   "cell_type": "markdown",
   "id": "3c7dbb7d-fb84-459a-9e21-a136cf1423f3",
   "metadata": {},
   "source": []
  }
 ],
 "metadata": {
  "kernelspec": {
   "display_name": "Python 3 (ipykernel)",
   "language": "python",
   "name": "python3"
  },
  "language_info": {
   "codemirror_mode": {
    "name": "ipython",
    "version": 3
   },
   "file_extension": ".py",
   "mimetype": "text/x-python",
   "name": "python",
   "nbconvert_exporter": "python",
   "pygments_lexer": "ipython3",
   "version": "3.8.15"
  },
  "widgets": {
   "application/vnd.jupyter.widget-state+json": {
    "state": {
     "06dfe7f165884c88b093c6f1ab24df57": {
      "model_module": "@jupyter-widgets/base",
      "model_module_version": "2.0.0",
      "model_name": "LayoutModel",
      "state": {}
     },
     "0785da8b57d843bea4d7553fcd05201b": {
      "model_module": "@jupyter-widgets/base",
      "model_module_version": "2.0.0",
      "model_name": "LayoutModel",
      "state": {}
     },
     "0a3a59a90a044425935dbb409cce59ea": {
      "model_module": "@jupyter-widgets/controls",
      "model_module_version": "2.0.0",
      "model_name": "HTMLModel",
      "state": {
       "layout": "IPY_MODEL_9a63f2b660dd459a8a10a3f1d71072ea",
       "style": "IPY_MODEL_4ee950d1a025493f8080f8decb1dac70",
       "value": " 6000/6000 [22:47&lt;00:00,  4.38images/s]"
      }
     },
     "0a7992177a9e4931995d1acf5f526b40": {
      "model_module": "@jupyter-widgets/controls",
      "model_module_version": "2.0.0",
      "model_name": "HTMLModel",
      "state": {
       "layout": "IPY_MODEL_a466f5382c0f4ceb8be4d657f84e544c",
       "style": "IPY_MODEL_d24b43ba9cf74f3e80da796cee28c2a2",
       "value": "Building Pixel Features: 100%"
      }
     },
     "0b543bb1210545889620a4330ab5342c": {
      "model_module": "@jupyter-widgets/controls",
      "model_module_version": "2.0.0",
      "model_name": "HBoxModel",
      "state": {
       "children": [
        "IPY_MODEL_a849fde0351c425382ca8321e464d01f",
        "IPY_MODEL_73bec86cc3f1424b852d079f8e205a38",
        "IPY_MODEL_f0da513c90064994a5a1b704c19e99c7"
       ],
       "layout": "IPY_MODEL_27b38c5fa0004eaaa13b2556b8999506"
      }
     },
     "0c066d4e0f2843c6b278faca0917fa63": {
      "model_module": "@jupyter-widgets/controls",
      "model_module_version": "2.0.0",
      "model_name": "HTMLModel",
      "state": {
       "layout": "IPY_MODEL_e3a1357d12b04c959b499711339b20dc",
       "style": "IPY_MODEL_bb1c9b494e254769b2cabe54a6f4bcd6",
       "value": "Building HOG Features: 100%"
      }
     },
     "0f10529b319a433d9293cecc81cc4259": {
      "model_module": "@jupyter-widgets/base",
      "model_module_version": "2.0.0",
      "model_name": "LayoutModel",
      "state": {}
     },
     "101dfd8090de4fd5a5968021ee14de89": {
      "model_module": "@jupyter-widgets/controls",
      "model_module_version": "2.0.0",
      "model_name": "HTMLStyleModel",
      "state": {
       "description_width": "",
       "font_size": null,
       "text_color": null
      }
     },
     "11a5d26a66af4ab0a28e56f69b626f08": {
      "model_module": "@jupyter-widgets/base",
      "model_module_version": "2.0.0",
      "model_name": "LayoutModel",
      "state": {}
     },
     "12cabb1765ba4a12b0c62b3364ac97ad": {
      "model_module": "@jupyter-widgets/controls",
      "model_module_version": "2.0.0",
      "model_name": "HTMLModel",
      "state": {
       "layout": "IPY_MODEL_aca43a494b5140c29eb92e09a1ad10a9",
       "style": "IPY_MODEL_8e835a270c664af1a70e4f017d221649",
       "value": "Building Edge Features: 100%"
      }
     },
     "136a0792795a4bc599de6f72ce6e8aee": {
      "model_module": "@jupyter-widgets/controls",
      "model_module_version": "2.0.0",
      "model_name": "HBoxModel",
      "state": {
       "children": [
        "IPY_MODEL_e91c0355932c4b1f8268428fe5a0fc0f",
        "IPY_MODEL_e1eb93ac349341f7ab8a223c827ba041",
        "IPY_MODEL_7051698d8eec4ad495fd47d982c55f0a"
       ],
       "layout": "IPY_MODEL_c22836fc4afb42b08c723cd8dead175a"
      }
     },
     "143b6570a6cf43deb3257148f5e376bf": {
      "model_module": "@jupyter-widgets/controls",
      "model_module_version": "2.0.0",
      "model_name": "HBoxModel",
      "state": {
       "children": [
        "IPY_MODEL_90289c25beeb4bcd81b83219627388af",
        "IPY_MODEL_af44bffbb31d40d8ad9dd8b9d9099ccd",
        "IPY_MODEL_464cf47ad75f4f15b42b58dfb2db8247"
       ],
       "layout": "IPY_MODEL_0785da8b57d843bea4d7553fcd05201b"
      }
     },
     "1535f1fceb594cee90080d925bab18a6": {
      "model_module": "@jupyter-widgets/base",
      "model_module_version": "2.0.0",
      "model_name": "LayoutModel",
      "state": {}
     },
     "154336cb67be45f38e2b513c393c6358": {
      "model_module": "@jupyter-widgets/base",
      "model_module_version": "2.0.0",
      "model_name": "LayoutModel",
      "state": {}
     },
     "16617be369be4c84b729e8b19de7ba5f": {
      "model_module": "@jupyter-widgets/controls",
      "model_module_version": "2.0.0",
      "model_name": "FloatProgressModel",
      "state": {
       "bar_style": "danger",
       "layout": "IPY_MODEL_dc7e2b22dbfa475681ce5de46f91d1fb",
       "max": 6000,
       "style": "IPY_MODEL_50f7f50ef46b41829e640f02aaed5292",
       "value": 5844
      }
     },
     "17b1426ec6af49d3ad9aa796fb9e6055": {
      "model_module": "@jupyter-widgets/controls",
      "model_module_version": "2.0.0",
      "model_name": "HTMLStyleModel",
      "state": {
       "description_width": "",
       "font_size": null,
       "text_color": null
      }
     },
     "18f4ed73fe854cf19bac87902bc8f60a": {
      "model_module": "@jupyter-widgets/controls",
      "model_module_version": "2.0.0",
      "model_name": "HTMLStyleModel",
      "state": {
       "description_width": "",
       "font_size": null,
       "text_color": null
      }
     },
     "1a1e924fdbba44e191c9ae301be1b38c": {
      "model_module": "@jupyter-widgets/base",
      "model_module_version": "2.0.0",
      "model_name": "LayoutModel",
      "state": {}
     },
     "1be1d1996e954c33a9d3b1b93ca8ea40": {
      "model_module": "@jupyter-widgets/base",
      "model_module_version": "2.0.0",
      "model_name": "LayoutModel",
      "state": {}
     },
     "1e4512e78c064754b684316add063367": {
      "model_module": "@jupyter-widgets/controls",
      "model_module_version": "2.0.0",
      "model_name": "HTMLStyleModel",
      "state": {
       "description_width": "",
       "font_size": null,
       "text_color": null
      }
     },
     "20a9cff5ebc6432682c3eff891f9fbd0": {
      "model_module": "@jupyter-widgets/controls",
      "model_module_version": "2.0.0",
      "model_name": "FloatProgressModel",
      "state": {
       "bar_style": "success",
       "layout": "IPY_MODEL_7c50ecc281bf46cb927be29b9680846b",
       "max": 6000,
       "style": "IPY_MODEL_2e8633bfd844481b952635f0d87f8426",
       "value": 6000
      }
     },
     "211a5ec191274f34828b2b48f32c83c5": {
      "model_module": "@jupyter-widgets/controls",
      "model_module_version": "2.0.0",
      "model_name": "HBoxModel",
      "state": {
       "children": [
        "IPY_MODEL_711e3da7f86f4a7aa461b28f3e19c22c",
        "IPY_MODEL_d4adb6f8dc72430a8f1a9ab19d0a784b",
        "IPY_MODEL_bf4422851a0d4d73b54de00d57d4c75c"
       ],
       "layout": "IPY_MODEL_1be1d1996e954c33a9d3b1b93ca8ea40"
      }
     },
     "21b421e5718a4c7a9e9b065a9818df8a": {
      "model_module": "@jupyter-widgets/controls",
      "model_module_version": "2.0.0",
      "model_name": "HTMLModel",
      "state": {
       "layout": "IPY_MODEL_da3ea6bbae9c40bca4356af553f9c353",
       "style": "IPY_MODEL_493b259aec124f8cb4d86a6007ab9f41",
       "value": "Building ResNet152 Features: 100%"
      }
     },
     "2292fc10880e44d2b05d14000d7c10f3": {
      "model_module": "@jupyter-widgets/base",
      "model_module_version": "2.0.0",
      "model_name": "LayoutModel",
      "state": {}
     },
     "22f36958caf7485ea08b6a20909c347b": {
      "model_module": "@jupyter-widgets/controls",
      "model_module_version": "2.0.0",
      "model_name": "FloatProgressModel",
      "state": {
       "bar_style": "success",
       "layout": "IPY_MODEL_a3b18fa86094487f979df59f87c631c6",
       "max": 6000,
       "style": "IPY_MODEL_d647e4df62c04dc291e472f700d2ac4d",
       "value": 6000
      }
     },
     "23393aad11564a03b19c23e5a11c6a1f": {
      "model_module": "@jupyter-widgets/controls",
      "model_module_version": "2.0.0",
      "model_name": "HTMLModel",
      "state": {
       "layout": "IPY_MODEL_ea4d1bfe7e7840deba177719e34aade0",
       "style": "IPY_MODEL_7ffd2e48addc4af6a9f86dd738757ece",
       "value": " 0/6000 [00:00&lt;?, ?images/s]"
      }
     },
     "25cea0bf83de46c3ac11ad7d4cf62bda": {
      "model_module": "@jupyter-widgets/base",
      "model_module_version": "2.0.0",
      "model_name": "LayoutModel",
      "state": {}
     },
     "27b38c5fa0004eaaa13b2556b8999506": {
      "model_module": "@jupyter-widgets/base",
      "model_module_version": "2.0.0",
      "model_name": "LayoutModel",
      "state": {}
     },
     "2ca79540b84a479e864dee2586a71723": {
      "model_module": "@jupyter-widgets/base",
      "model_module_version": "2.0.0",
      "model_name": "LayoutModel",
      "state": {}
     },
     "2e3375af19834050bd8718c76c679523": {
      "model_module": "@jupyter-widgets/controls",
      "model_module_version": "2.0.0",
      "model_name": "HTMLStyleModel",
      "state": {
       "description_width": "",
       "font_size": null,
       "text_color": null
      }
     },
     "2e8633bfd844481b952635f0d87f8426": {
      "model_module": "@jupyter-widgets/controls",
      "model_module_version": "2.0.0",
      "model_name": "ProgressStyleModel",
      "state": {
       "description_width": ""
      }
     },
     "32daaa4eee6b41d0a20936a26214df89": {
      "model_module": "@jupyter-widgets/controls",
      "model_module_version": "2.0.0",
      "model_name": "HTMLModel",
      "state": {
       "layout": "IPY_MODEL_b348e87127844f4baacd01f8672c302e",
       "style": "IPY_MODEL_4f5e7d5126e547f48f6d6feab8742892",
       "value": " 0/6000 [00:02&lt;?, ?it/s]"
      }
     },
     "33060eb03f224891be3c6a36b94ef4c6": {
      "model_module": "@jupyter-widgets/base",
      "model_module_version": "2.0.0",
      "model_name": "LayoutModel",
      "state": {}
     },
     "33b2739990b8450293f1ceaa806f2daa": {
      "model_module": "@jupyter-widgets/base",
      "model_module_version": "2.0.0",
      "model_name": "LayoutModel",
      "state": {}
     },
     "349224c60d2a48a89184fb89e1ff3c4f": {
      "model_module": "@jupyter-widgets/base",
      "model_module_version": "2.0.0",
      "model_name": "LayoutModel",
      "state": {}
     },
     "3978e6320d7e4d869fe142526c90e2b7": {
      "model_module": "@jupyter-widgets/base",
      "model_module_version": "2.0.0",
      "model_name": "LayoutModel",
      "state": {}
     },
     "3a4a3b1ee2b941278e56598e18df8a54": {
      "model_module": "@jupyter-widgets/controls",
      "model_module_version": "2.0.0",
      "model_name": "HTMLStyleModel",
      "state": {
       "description_width": "",
       "font_size": null,
       "text_color": null
      }
     },
     "3b3a0d0c572f45cba66ab04a0d29942d": {
      "model_module": "@jupyter-widgets/controls",
      "model_module_version": "2.0.0",
      "model_name": "ProgressStyleModel",
      "state": {
       "description_width": ""
      }
     },
     "3e1524d916cb4b2aa8ed27715f85dc35": {
      "model_module": "@jupyter-widgets/controls",
      "model_module_version": "2.0.0",
      "model_name": "HTMLModel",
      "state": {
       "layout": "IPY_MODEL_11a5d26a66af4ab0a28e56f69b626f08",
       "style": "IPY_MODEL_ca0f7762d9234ffcbf3778ae4dfe54b7",
       "value": " 6000/6000 [00:00&lt;00:00, 9919.22images/s]"
      }
     },
     "3e3dfb462a9b44c9a3dea83c66f2cfc5": {
      "model_module": "@jupyter-widgets/controls",
      "model_module_version": "2.0.0",
      "model_name": "FloatProgressModel",
      "state": {
       "bar_style": "success",
       "layout": "IPY_MODEL_1535f1fceb594cee90080d925bab18a6",
       "max": 6000,
       "style": "IPY_MODEL_3ff2f068ebf64bfaaf8ceaf5efc92932",
       "value": 6000
      }
     },
     "3f45039f081747fdab751a7aadd59ce0": {
      "model_module": "@jupyter-widgets/controls",
      "model_module_version": "2.0.0",
      "model_name": "FloatProgressModel",
      "state": {
       "bar_style": "success",
       "layout": "IPY_MODEL_58d38193216a442895d30b0e6e4bd815",
       "max": 6000,
       "style": "IPY_MODEL_3b3a0d0c572f45cba66ab04a0d29942d",
       "value": 6000
      }
     },
     "3ff2f068ebf64bfaaf8ceaf5efc92932": {
      "model_module": "@jupyter-widgets/controls",
      "model_module_version": "2.0.0",
      "model_name": "ProgressStyleModel",
      "state": {
       "description_width": ""
      }
     },
     "4083731466064c2fba811f4bbb82b04e": {
      "model_module": "@jupyter-widgets/base",
      "model_module_version": "2.0.0",
      "model_name": "LayoutModel",
      "state": {}
     },
     "412a139b0cdb49f9ac83851ded0edf00": {
      "model_module": "@jupyter-widgets/controls",
      "model_module_version": "2.0.0",
      "model_name": "HTMLModel",
      "state": {
       "layout": "IPY_MODEL_4083731466064c2fba811f4bbb82b04e",
       "style": "IPY_MODEL_3a4a3b1ee2b941278e56598e18df8a54",
       "value": "Processing images labeled &#x27;Conversing&#x27;:  97%"
      }
     },
     "422771d1bcfc469e86fcf195300e9612": {
      "model_module": "@jupyter-widgets/controls",
      "model_module_version": "2.0.0",
      "model_name": "HTMLStyleModel",
      "state": {
       "description_width": "",
       "font_size": null,
       "text_color": null
      }
     },
     "4452a849f0164c0585b5a39bfcbfbe50": {
      "model_module": "@jupyter-widgets/controls",
      "model_module_version": "2.0.0",
      "model_name": "HTMLStyleModel",
      "state": {
       "description_width": "",
       "font_size": null,
       "text_color": null
      }
     },
     "464cf47ad75f4f15b42b58dfb2db8247": {
      "model_module": "@jupyter-widgets/controls",
      "model_module_version": "2.0.0",
      "model_name": "HTMLModel",
      "state": {
       "layout": "IPY_MODEL_2292fc10880e44d2b05d14000d7c10f3",
       "style": "IPY_MODEL_5a910cea49374c469d3bfa3adceb632b",
       "value": " 145/6000 [03:33&lt;1:43:42,  1.06s/it]"
      }
     },
     "46ba998f36b34fefba687566cdec21fc": {
      "model_module": "@jupyter-widgets/controls",
      "model_module_version": "2.0.0",
      "model_name": "HTMLStyleModel",
      "state": {
       "description_width": "",
       "font_size": null,
       "text_color": null
      }
     },
     "472c66055576412982a02409dcf08bd1": {
      "model_module": "@jupyter-widgets/controls",
      "model_module_version": "2.0.0",
      "model_name": "HTMLModel",
      "state": {
       "layout": "IPY_MODEL_61215a9b754c49299f862d2342e0d250",
       "style": "IPY_MODEL_4452a849f0164c0585b5a39bfcbfbe50",
       "value": "Getting eye counts: 100%"
      }
     },
     "47437e1c733a46d2b48aca17948df370": {
      "model_module": "@jupyter-widgets/base",
      "model_module_version": "2.0.0",
      "model_name": "LayoutModel",
      "state": {}
     },
     "493b259aec124f8cb4d86a6007ab9f41": {
      "model_module": "@jupyter-widgets/controls",
      "model_module_version": "2.0.0",
      "model_name": "HTMLStyleModel",
      "state": {
       "description_width": "",
       "font_size": null,
       "text_color": null
      }
     },
     "4c2bb9ddf9a84157a15f005fae69a963": {
      "model_module": "@jupyter-widgets/controls",
      "model_module_version": "2.0.0",
      "model_name": "ProgressStyleModel",
      "state": {
       "description_width": ""
      }
     },
     "4dd6f22fff2f474a8cf954a149d19e14": {
      "model_module": "@jupyter-widgets/base",
      "model_module_version": "2.0.0",
      "model_name": "LayoutModel",
      "state": {}
     },
     "4ee950d1a025493f8080f8decb1dac70": {
      "model_module": "@jupyter-widgets/controls",
      "model_module_version": "2.0.0",
      "model_name": "HTMLStyleModel",
      "state": {
       "description_width": "",
       "font_size": null,
       "text_color": null
      }
     },
     "4f22dae5abed4e1ab271f2cae3b74f1e": {
      "model_module": "@jupyter-widgets/base",
      "model_module_version": "2.0.0",
      "model_name": "LayoutModel",
      "state": {}
     },
     "4f5e7d5126e547f48f6d6feab8742892": {
      "model_module": "@jupyter-widgets/controls",
      "model_module_version": "2.0.0",
      "model_name": "HTMLStyleModel",
      "state": {
       "description_width": "",
       "font_size": null,
       "text_color": null
      }
     },
     "50f7f50ef46b41829e640f02aaed5292": {
      "model_module": "@jupyter-widgets/controls",
      "model_module_version": "2.0.0",
      "model_name": "ProgressStyleModel",
      "state": {
       "description_width": ""
      }
     },
     "50f88f5d6498463088d08ca189be2c06": {
      "model_module": "@jupyter-widgets/controls",
      "model_module_version": "2.0.0",
      "model_name": "HBoxModel",
      "state": {
       "children": [
        "IPY_MODEL_802a2d191654463582df73bd6026c446",
        "IPY_MODEL_22f36958caf7485ea08b6a20909c347b",
        "IPY_MODEL_ee4e47a565aa4c39893de77eac3e6bdd"
       ],
       "layout": "IPY_MODEL_9fd2e33b5f134fec81feb5d0f49e9598"
      }
     },
     "55d7d7dd99334b219f418ef7bc718e2b": {
      "model_module": "@jupyter-widgets/controls",
      "model_module_version": "2.0.0",
      "model_name": "HTMLStyleModel",
      "state": {
       "description_width": "",
       "font_size": null,
       "text_color": null
      }
     },
     "58d38193216a442895d30b0e6e4bd815": {
      "model_module": "@jupyter-widgets/base",
      "model_module_version": "2.0.0",
      "model_name": "LayoutModel",
      "state": {}
     },
     "59600c32ed9d449880f688cf9509e9bc": {
      "model_module": "@jupyter-widgets/base",
      "model_module_version": "2.0.0",
      "model_name": "LayoutModel",
      "state": {}
     },
     "59d4cc21ab58408eb014dfa30205114a": {
      "model_module": "@jupyter-widgets/controls",
      "model_module_version": "2.0.0",
      "model_name": "FloatProgressModel",
      "state": {
       "bar_style": "danger",
       "layout": "IPY_MODEL_a17c850806444d78ba5fa72d431f1e10",
       "max": 6000,
       "style": "IPY_MODEL_f557c9b7127b4290a77e7ca7529d34f3"
      }
     },
     "5a910cea49374c469d3bfa3adceb632b": {
      "model_module": "@jupyter-widgets/controls",
      "model_module_version": "2.0.0",
      "model_name": "HTMLStyleModel",
      "state": {
       "description_width": "",
       "font_size": null,
       "text_color": null
      }
     },
     "5aac91b6ff9b442083f14966da63686a": {
      "model_module": "@jupyter-widgets/base",
      "model_module_version": "2.0.0",
      "model_name": "LayoutModel",
      "state": {}
     },
     "5dacacd2e9bd4085a74277bd95df3ced": {
      "model_module": "@jupyter-widgets/base",
      "model_module_version": "2.0.0",
      "model_name": "LayoutModel",
      "state": {}
     },
     "61215a9b754c49299f862d2342e0d250": {
      "model_module": "@jupyter-widgets/base",
      "model_module_version": "2.0.0",
      "model_name": "LayoutModel",
      "state": {}
     },
     "6518e33e370d44e6a1bbd1ca39a5b3e2": {
      "model_module": "@jupyter-widgets/base",
      "model_module_version": "2.0.0",
      "model_name": "LayoutModel",
      "state": {}
     },
     "66c574b5d80d48448fb432d9314d0bc1": {
      "model_module": "@jupyter-widgets/base",
      "model_module_version": "2.0.0",
      "model_name": "LayoutModel",
      "state": {}
     },
     "69a12d1c26a54b6b8cc941f33af37288": {
      "model_module": "@jupyter-widgets/controls",
      "model_module_version": "2.0.0",
      "model_name": "HTMLModel",
      "state": {
       "layout": "IPY_MODEL_9435d556912f418ba8ef1020b350e0c6",
       "style": "IPY_MODEL_422771d1bcfc469e86fcf195300e9612",
       "value": "Getting eye counts:   0%"
      }
     },
     "6caab270b3ea4188b8b81ac99df339da": {
      "model_module": "@jupyter-widgets/controls",
      "model_module_version": "2.0.0",
      "model_name": "HTMLModel",
      "state": {
       "layout": "IPY_MODEL_8c4ebf7c58f942a4b61570e25848b597",
       "style": "IPY_MODEL_1e4512e78c064754b684316add063367",
       "value": " 6000/6000 [02:50&lt;00:00, 34.55images/s]"
      }
     },
     "7051698d8eec4ad495fd47d982c55f0a": {
      "model_module": "@jupyter-widgets/controls",
      "model_module_version": "2.0.0",
      "model_name": "HTMLModel",
      "state": {
       "layout": "IPY_MODEL_b471391ea45949008a6483b84e45c4d2",
       "style": "IPY_MODEL_f4f3debc6e3f42bb9585ac4ccf15c922",
       "value": " 11/6000 [00:12&lt;1:49:06,  1.09s/it]"
      }
     },
     "711e3da7f86f4a7aa461b28f3e19c22c": {
      "model_module": "@jupyter-widgets/controls",
      "model_module_version": "2.0.0",
      "model_name": "HTMLModel",
      "state": {
       "layout": "IPY_MODEL_b399cadf8a9147329c77b83f1bf0bf95",
       "style": "IPY_MODEL_46ba998f36b34fefba687566cdec21fc",
       "value": "Loading 6000 samples: 100%"
      }
     },
     "715b0f454ab04ab99329ddb0490e6979": {
      "model_module": "@jupyter-widgets/base",
      "model_module_version": "2.0.0",
      "model_name": "LayoutModel",
      "state": {}
     },
     "73527d9b54e645029fa9056732a19b04": {
      "model_module": "@jupyter-widgets/controls",
      "model_module_version": "2.0.0",
      "model_name": "HBoxModel",
      "state": {
       "children": [
        "IPY_MODEL_0a7992177a9e4931995d1acf5f526b40",
        "IPY_MODEL_20a9cff5ebc6432682c3eff891f9fbd0",
        "IPY_MODEL_3e1524d916cb4b2aa8ed27715f85dc35"
       ],
       "layout": "IPY_MODEL_7caab51202af4690b9273b098170cd46"
      }
     },
     "736f0c06451c456c89499257e04fa36e": {
      "model_module": "@jupyter-widgets/base",
      "model_module_version": "2.0.0",
      "model_name": "LayoutModel",
      "state": {}
     },
     "73bec86cc3f1424b852d079f8e205a38": {
      "model_module": "@jupyter-widgets/controls",
      "model_module_version": "2.0.0",
      "model_name": "FloatProgressModel",
      "state": {
       "bar_style": "success",
       "layout": "IPY_MODEL_33060eb03f224891be3c6a36b94ef4c6",
       "max": 6000,
       "style": "IPY_MODEL_4c2bb9ddf9a84157a15f005fae69a963",
       "value": 6000
      }
     },
     "751d63b1cbc44cb98c4e4fea9f51bfc3": {
      "model_module": "@jupyter-widgets/controls",
      "model_module_version": "2.0.0",
      "model_name": "HTMLStyleModel",
      "state": {
       "description_width": "",
       "font_size": null,
       "text_color": null
      }
     },
     "791fcf25ba4e48a284cb02ce2827e3ce": {
      "model_module": "@jupyter-widgets/controls",
      "model_module_version": "2.0.0",
      "model_name": "HTMLStyleModel",
      "state": {
       "description_width": "",
       "font_size": null,
       "text_color": null
      }
     },
     "7982992b0e674411b5d92c9ae39cd0b4": {
      "model_module": "@jupyter-widgets/controls",
      "model_module_version": "2.0.0",
      "model_name": "HTMLModel",
      "state": {
       "layout": "IPY_MODEL_349224c60d2a48a89184fb89e1ff3c4f",
       "style": "IPY_MODEL_e4649170390c44899d5346e4b9ef6da0",
       "value": "Building Pixel Features: 100%"
      }
     },
     "7b580042f03e451bb2d9791ff47ae27e": {
      "model_module": "@jupyter-widgets/controls",
      "model_module_version": "2.0.0",
      "model_name": "HTMLStyleModel",
      "state": {
       "description_width": "",
       "font_size": null,
       "text_color": null
      }
     },
     "7b67e45956f345b8afcdb0a81968bc34": {
      "model_module": "@jupyter-widgets/controls",
      "model_module_version": "2.0.0",
      "model_name": "HBoxModel",
      "state": {
       "children": [
        "IPY_MODEL_7982992b0e674411b5d92c9ae39cd0b4",
        "IPY_MODEL_e72c457a19e44d8d97c5530425ec70ae",
        "IPY_MODEL_e796fa58f6274e999879116e667dbb28"
       ],
       "layout": "IPY_MODEL_dd3856a44a93485e803693c53481094f"
      }
     },
     "7bf4804e27454e02ae8202650452bef8": {
      "model_module": "@jupyter-widgets/controls",
      "model_module_version": "2.0.0",
      "model_name": "HTMLModel",
      "state": {
       "layout": "IPY_MODEL_4dd6f22fff2f474a8cf954a149d19e14",
       "style": "IPY_MODEL_a44411da77e14a2faa2c1a4c00cb9555",
       "value": " 6000/6000 [02:08&lt;00:00, 49.92images/s]"
      }
     },
     "7c50ecc281bf46cb927be29b9680846b": {
      "model_module": "@jupyter-widgets/base",
      "model_module_version": "2.0.0",
      "model_name": "LayoutModel",
      "state": {}
     },
     "7caab51202af4690b9273b098170cd46": {
      "model_module": "@jupyter-widgets/base",
      "model_module_version": "2.0.0",
      "model_name": "LayoutModel",
      "state": {}
     },
     "7e0ef5158fe84747b9408f2c4b19bb13": {
      "model_module": "@jupyter-widgets/controls",
      "model_module_version": "2.0.0",
      "model_name": "FloatProgressModel",
      "state": {
       "bar_style": "success",
       "layout": "IPY_MODEL_854cfc64211a4dae9da4fffe35f496f6",
       "max": 6000,
       "style": "IPY_MODEL_accf27cbc9824043aaaca8ac39fbd6db",
       "value": 6000
      }
     },
     "7ffd2e48addc4af6a9f86dd738757ece": {
      "model_module": "@jupyter-widgets/controls",
      "model_module_version": "2.0.0",
      "model_name": "HTMLStyleModel",
      "state": {
       "description_width": "",
       "font_size": null,
       "text_color": null
      }
     },
     "802a2d191654463582df73bd6026c446": {
      "model_module": "@jupyter-widgets/controls",
      "model_module_version": "2.0.0",
      "model_name": "HTMLModel",
      "state": {
       "layout": "IPY_MODEL_1a1e924fdbba44e191c9ae301be1b38c",
       "style": "IPY_MODEL_18f4ed73fe854cf19bac87902bc8f60a",
       "value": "Saving feature vectors: 100%"
      }
     },
     "8132b491d7f34e179b2e4d660a68b04c": {
      "model_module": "@jupyter-widgets/base",
      "model_module_version": "2.0.0",
      "model_name": "LayoutModel",
      "state": {}
     },
     "81eb7ebb5a2442e0aa0a0e6f29cba5b6": {
      "model_module": "@jupyter-widgets/base",
      "model_module_version": "2.0.0",
      "model_name": "LayoutModel",
      "state": {}
     },
     "821edb2f2ed54442aaf505bd6f70a31e": {
      "model_module": "@jupyter-widgets/controls",
      "model_module_version": "2.0.0",
      "model_name": "FloatProgressModel",
      "state": {
       "bar_style": "success",
       "layout": "IPY_MODEL_81eb7ebb5a2442e0aa0a0e6f29cba5b6",
       "max": 6000,
       "style": "IPY_MODEL_c8890e71b56948dd9e44c153839a469b",
       "value": 6000
      }
     },
     "854cfc64211a4dae9da4fffe35f496f6": {
      "model_module": "@jupyter-widgets/base",
      "model_module_version": "2.0.0",
      "model_name": "LayoutModel",
      "state": {}
     },
     "854db6c4e3fe4939a023b1b1cf9b6a88": {
      "model_module": "@jupyter-widgets/controls",
      "model_module_version": "2.0.0",
      "model_name": "HTMLModel",
      "state": {
       "layout": "IPY_MODEL_66c574b5d80d48448fb432d9314d0bc1",
       "style": "IPY_MODEL_ca587bd8fd4b415a8d8d2122f7c91fb0",
       "value": " 5844/6000 [1:46:05&lt;02:40,  1.03s/it]"
      }
     },
     "893793bbd1ca4602836d02e26eb2caa5": {
      "model_module": "@jupyter-widgets/controls",
      "model_module_version": "2.0.0",
      "model_name": "HBoxModel",
      "state": {
       "children": [
        "IPY_MODEL_b446d7d8e265497ea2324ee6f0489be2",
        "IPY_MODEL_821edb2f2ed54442aaf505bd6f70a31e",
        "IPY_MODEL_c79a0bba9d264b01943a16465d25b3c0"
       ],
       "layout": "IPY_MODEL_5dacacd2e9bd4085a74277bd95df3ced"
      }
     },
     "8c4ebf7c58f942a4b61570e25848b597": {
      "model_module": "@jupyter-widgets/base",
      "model_module_version": "2.0.0",
      "model_name": "LayoutModel",
      "state": {}
     },
     "8c70c0a841ea4603868da9ea5613fc18": {
      "model_module": "@jupyter-widgets/base",
      "model_module_version": "2.0.0",
      "model_name": "LayoutModel",
      "state": {}
     },
     "8cc64073bb1940cfa5612a6f45ce5a59": {
      "model_module": "@jupyter-widgets/base",
      "model_module_version": "2.0.0",
      "model_name": "LayoutModel",
      "state": {}
     },
     "8e835a270c664af1a70e4f017d221649": {
      "model_module": "@jupyter-widgets/controls",
      "model_module_version": "2.0.0",
      "model_name": "HTMLStyleModel",
      "state": {
       "description_width": "",
       "font_size": null,
       "text_color": null
      }
     },
     "90289c25beeb4bcd81b83219627388af": {
      "model_module": "@jupyter-widgets/controls",
      "model_module_version": "2.0.0",
      "model_name": "HTMLModel",
      "state": {
       "layout": "IPY_MODEL_736f0c06451c456c89499257e04fa36e",
       "style": "IPY_MODEL_55d7d7dd99334b219f418ef7bc718e2b",
       "value": "Processing images labeled &#x27;Safe Driving&#x27;:   2%"
      }
     },
     "92326cdda39e4d76be48a8ced690fe9d": {
      "model_module": "@jupyter-widgets/base",
      "model_module_version": "2.0.0",
      "model_name": "LayoutModel",
      "state": {}
     },
     "92a6bebefb9240d09875e4df8300e4a5": {
      "model_module": "@jupyter-widgets/base",
      "model_module_version": "2.0.0",
      "model_name": "LayoutModel",
      "state": {}
     },
     "9435d556912f418ba8ef1020b350e0c6": {
      "model_module": "@jupyter-widgets/base",
      "model_module_version": "2.0.0",
      "model_name": "LayoutModel",
      "state": {}
     },
     "9838af1bd2354431ba8fd19fce50e9df": {
      "model_module": "@jupyter-widgets/controls",
      "model_module_version": "2.0.0",
      "model_name": "FloatProgressModel",
      "state": {
       "bar_style": "danger",
       "layout": "IPY_MODEL_d8416f7162c345ee93aaac3ead16285a",
       "max": 6000,
       "style": "IPY_MODEL_dd077606136e4bf5a390d8a8bbd1dc68"
      }
     },
     "98f34b46bc394529b0ef23b2bf1ce222": {
      "model_module": "@jupyter-widgets/controls",
      "model_module_version": "2.0.0",
      "model_name": "HTMLModel",
      "state": {
       "layout": "IPY_MODEL_2ca79540b84a479e864dee2586a71723",
       "style": "IPY_MODEL_c019cfdeff4f4609b68001d00bc43d9e"
      }
     },
     "99ac278da6ef435abb04e9f597b12220": {
      "model_module": "@jupyter-widgets/controls",
      "model_module_version": "2.0.0",
      "model_name": "ProgressStyleModel",
      "state": {
       "description_width": ""
      }
     },
     "99be5537ea1d44dd864f49209cee6239": {
      "model_module": "@jupyter-widgets/controls",
      "model_module_version": "2.0.0",
      "model_name": "HTMLModel",
      "state": {
       "layout": "IPY_MODEL_92326cdda39e4d76be48a8ced690fe9d",
       "style": "IPY_MODEL_b245b561d1574003a01750ef0aab0c05",
       "value": " 6010/? [00:01&lt;00:00, 5076.10file/s]"
      }
     },
     "9a376663de5b4a8398b3adef45c451a7": {
      "model_module": "@jupyter-widgets/controls",
      "model_module_version": "2.0.0",
      "model_name": "HBoxModel",
      "state": {
       "children": [
        "IPY_MODEL_12cabb1765ba4a12b0c62b3364ac97ad",
        "IPY_MODEL_7e0ef5158fe84747b9408f2c4b19bb13",
        "IPY_MODEL_eab6e583d49f431c992a32e753cf04ee"
       ],
       "layout": "IPY_MODEL_92a6bebefb9240d09875e4df8300e4a5"
      }
     },
     "9a63f2b660dd459a8a10a3f1d71072ea": {
      "model_module": "@jupyter-widgets/base",
      "model_module_version": "2.0.0",
      "model_name": "LayoutModel",
      "state": {}
     },
     "9ac6d1c8c1fa44ecae4ead3ba642ca13": {
      "model_module": "@jupyter-widgets/controls",
      "model_module_version": "2.0.0",
      "model_name": "HBoxModel",
      "state": {
       "children": [
        "IPY_MODEL_412a139b0cdb49f9ac83851ded0edf00",
        "IPY_MODEL_16617be369be4c84b729e8b19de7ba5f",
        "IPY_MODEL_854db6c4e3fe4939a023b1b1cf9b6a88"
       ],
       "layout": "IPY_MODEL_c86ac49d5df34677a244b2d659753b6a"
      }
     },
     "9d15eea1c08a4e0ea40940024c63f0a6": {
      "model_module": "@jupyter-widgets/base",
      "model_module_version": "2.0.0",
      "model_name": "LayoutModel",
      "state": {}
     },
     "9fd2e33b5f134fec81feb5d0f49e9598": {
      "model_module": "@jupyter-widgets/base",
      "model_module_version": "2.0.0",
      "model_name": "LayoutModel",
      "state": {}
     },
     "a17c850806444d78ba5fa72d431f1e10": {
      "model_module": "@jupyter-widgets/base",
      "model_module_version": "2.0.0",
      "model_name": "LayoutModel",
      "state": {}
     },
     "a18f81b271ce448aa2a521a2c61eccef": {
      "model_module": "@jupyter-widgets/controls",
      "model_module_version": "2.0.0",
      "model_name": "HTMLStyleModel",
      "state": {
       "description_width": "",
       "font_size": null,
       "text_color": null
      }
     },
     "a3b18fa86094487f979df59f87c631c6": {
      "model_module": "@jupyter-widgets/base",
      "model_module_version": "2.0.0",
      "model_name": "LayoutModel",
      "state": {}
     },
     "a44411da77e14a2faa2c1a4c00cb9555": {
      "model_module": "@jupyter-widgets/controls",
      "model_module_version": "2.0.0",
      "model_name": "HTMLStyleModel",
      "state": {
       "description_width": "",
       "font_size": null,
       "text_color": null
      }
     },
     "a466f5382c0f4ceb8be4d657f84e544c": {
      "model_module": "@jupyter-widgets/base",
      "model_module_version": "2.0.0",
      "model_name": "LayoutModel",
      "state": {}
     },
     "a849fde0351c425382ca8321e464d01f": {
      "model_module": "@jupyter-widgets/controls",
      "model_module_version": "2.0.0",
      "model_name": "HTMLModel",
      "state": {
       "layout": "IPY_MODEL_cd33863f988b40b799f89f5be7148a24",
       "style": "IPY_MODEL_dc10390d57c942278543e08e52e1039b",
       "value": "Loading 6000 samples: 100%"
      }
     },
     "abf09432fdcb46f6b9cbbe621e8a037a": {
      "model_module": "@jupyter-widgets/controls",
      "model_module_version": "2.0.0",
      "model_name": "ProgressStyleModel",
      "state": {
       "description_width": ""
      }
     },
     "aca43a494b5140c29eb92e09a1ad10a9": {
      "model_module": "@jupyter-widgets/base",
      "model_module_version": "2.0.0",
      "model_name": "LayoutModel",
      "state": {}
     },
     "accf27cbc9824043aaaca8ac39fbd6db": {
      "model_module": "@jupyter-widgets/controls",
      "model_module_version": "2.0.0",
      "model_name": "ProgressStyleModel",
      "state": {
       "description_width": ""
      }
     },
     "af44bffbb31d40d8ad9dd8b9d9099ccd": {
      "model_module": "@jupyter-widgets/controls",
      "model_module_version": "2.0.0",
      "model_name": "FloatProgressModel",
      "state": {
       "bar_style": "danger",
       "layout": "IPY_MODEL_b6043968a3a9405bb933a9c238fbb36c",
       "max": 6000,
       "style": "IPY_MODEL_b8ce28dcd84c4e47b0d4942ff24e8ac0",
       "value": 145
      }
     },
     "af6bc71cfe214151869b5b09da7e71c9": {
      "model_module": "@jupyter-widgets/controls",
      "model_module_version": "2.0.0",
      "model_name": "HBoxModel",
      "state": {
       "children": [
        "IPY_MODEL_f6497005f7c34d0982eafd1a1818c28c",
        "IPY_MODEL_59d4cc21ab58408eb014dfa30205114a",
        "IPY_MODEL_32daaa4eee6b41d0a20936a26214df89"
       ],
       "layout": "IPY_MODEL_715b0f454ab04ab99329ddb0490e6979"
      }
     },
     "b1a193e7650e4a60a17d0559170f9144": {
      "model_module": "@jupyter-widgets/base",
      "model_module_version": "2.0.0",
      "model_name": "LayoutModel",
      "state": {}
     },
     "b245b561d1574003a01750ef0aab0c05": {
      "model_module": "@jupyter-widgets/controls",
      "model_module_version": "2.0.0",
      "model_name": "HTMLStyleModel",
      "state": {
       "description_width": "",
       "font_size": null,
       "text_color": null
      }
     },
     "b348e87127844f4baacd01f8672c302e": {
      "model_module": "@jupyter-widgets/base",
      "model_module_version": "2.0.0",
      "model_name": "LayoutModel",
      "state": {}
     },
     "b399cadf8a9147329c77b83f1bf0bf95": {
      "model_module": "@jupyter-widgets/base",
      "model_module_version": "2.0.0",
      "model_name": "LayoutModel",
      "state": {}
     },
     "b4036f5852d140acb6973c6b84567e1b": {
      "model_module": "@jupyter-widgets/controls",
      "model_module_version": "2.0.0",
      "model_name": "FloatProgressModel",
      "state": {
       "bar_style": "success",
       "layout": "IPY_MODEL_d5fe923cc9774eb09a67bb98fc3876ec",
       "max": 22424,
       "style": "IPY_MODEL_b47bf6dc597b436fa06fbcb28c96e1b3",
       "value": 22424
      }
     },
     "b446d7d8e265497ea2324ee6f0489be2": {
      "model_module": "@jupyter-widgets/controls",
      "model_module_version": "2.0.0",
      "model_name": "HTMLModel",
      "state": {
       "layout": "IPY_MODEL_6518e33e370d44e6a1bbd1ca39a5b3e2",
       "style": "IPY_MODEL_ba2121e387714b548137adeb5f1d02c9",
       "value": "Building Body-Part Features: 100%"
      }
     },
     "b471391ea45949008a6483b84e45c4d2": {
      "model_module": "@jupyter-widgets/base",
      "model_module_version": "2.0.0",
      "model_name": "LayoutModel",
      "state": {}
     },
     "b47bf6dc597b436fa06fbcb28c96e1b3": {
      "model_module": "@jupyter-widgets/controls",
      "model_module_version": "2.0.0",
      "model_name": "ProgressStyleModel",
      "state": {
       "description_width": ""
      }
     },
     "b6043968a3a9405bb933a9c238fbb36c": {
      "model_module": "@jupyter-widgets/base",
      "model_module_version": "2.0.0",
      "model_name": "LayoutModel",
      "state": {}
     },
     "b8ce28dcd84c4e47b0d4942ff24e8ac0": {
      "model_module": "@jupyter-widgets/controls",
      "model_module_version": "2.0.0",
      "model_name": "ProgressStyleModel",
      "state": {
       "description_width": ""
      }
     },
     "ba2121e387714b548137adeb5f1d02c9": {
      "model_module": "@jupyter-widgets/controls",
      "model_module_version": "2.0.0",
      "model_name": "HTMLStyleModel",
      "state": {
       "description_width": "",
       "font_size": null,
       "text_color": null
      }
     },
     "bb0deb141764472eb282048d2af07969": {
      "model_module": "@jupyter-widgets/controls",
      "model_module_version": "2.0.0",
      "model_name": "ProgressStyleModel",
      "state": {
       "description_width": ""
      }
     },
     "bb1c9b494e254769b2cabe54a6f4bcd6": {
      "model_module": "@jupyter-widgets/controls",
      "model_module_version": "2.0.0",
      "model_name": "HTMLStyleModel",
      "state": {
       "description_width": "",
       "font_size": null,
       "text_color": null
      }
     },
     "bb9e7eb9e8a4434ba62de344aa42f9a7": {
      "model_module": "@jupyter-widgets/base",
      "model_module_version": "2.0.0",
      "model_name": "LayoutModel",
      "state": {}
     },
     "bbc7acdb71f746f3b621a5176bc8c288": {
      "model_module": "@jupyter-widgets/controls",
      "model_module_version": "2.0.0",
      "model_name": "HTMLStyleModel",
      "state": {
       "description_width": "",
       "font_size": null,
       "text_color": null
      }
     },
     "bc02bfb3aa2c405b9f105b2824e40461": {
      "model_module": "@jupyter-widgets/controls",
      "model_module_version": "2.0.0",
      "model_name": "HTMLStyleModel",
      "state": {
       "description_width": "",
       "font_size": null,
       "text_color": null
      }
     },
     "bf4422851a0d4d73b54de00d57d4c75c": {
      "model_module": "@jupyter-widgets/controls",
      "model_module_version": "2.0.0",
      "model_name": "HTMLModel",
      "state": {
       "layout": "IPY_MODEL_8cc64073bb1940cfa5612a6f45ce5a59",
       "style": "IPY_MODEL_f33d290f533d4a9592fb2d65ee36e207",
       "value": " 6000/6000 [00:01&lt;00:00, 4464.11samples/s]"
      }
     },
     "c019cfdeff4f4609b68001d00bc43d9e": {
      "model_module": "@jupyter-widgets/controls",
      "model_module_version": "2.0.0",
      "model_name": "HTMLStyleModel",
      "state": {
       "description_width": "",
       "font_size": null,
       "text_color": null
      }
     },
     "c1b6002504d1460d9804c74d0f2aa1d9": {
      "model_module": "@jupyter-widgets/controls",
      "model_module_version": "2.0.0",
      "model_name": "HBoxModel",
      "state": {
       "children": [
        "IPY_MODEL_0c066d4e0f2843c6b278faca0917fa63",
        "IPY_MODEL_d8610cc05dd740aab9d3f02f493988a8",
        "IPY_MODEL_6caab270b3ea4188b8b81ac99df339da"
       ],
       "layout": "IPY_MODEL_06dfe7f165884c88b093c6f1ab24df57"
      }
     },
     "c22836fc4afb42b08c723cd8dead175a": {
      "model_module": "@jupyter-widgets/base",
      "model_module_version": "2.0.0",
      "model_name": "LayoutModel",
      "state": {}
     },
     "c3e0eb4313054d05ab0f6f2e38888163": {
      "model_module": "@jupyter-widgets/controls",
      "model_module_version": "2.0.0",
      "model_name": "HBoxModel",
      "state": {
       "children": [
        "IPY_MODEL_98f34b46bc394529b0ef23b2bf1ce222",
        "IPY_MODEL_3e3dfb462a9b44c9a3dea83c66f2cfc5",
        "IPY_MODEL_99be5537ea1d44dd864f49209cee6239"
       ],
       "layout": "IPY_MODEL_0f10529b319a433d9293cecc81cc4259"
      }
     },
     "c43a375385244500b17cd55f5cf630e3": {
      "model_module": "@jupyter-widgets/controls",
      "model_module_version": "2.0.0",
      "model_name": "HBoxModel",
      "state": {
       "children": [
        "IPY_MODEL_21b421e5718a4c7a9e9b065a9818df8a",
        "IPY_MODEL_3f45039f081747fdab751a7aadd59ce0",
        "IPY_MODEL_0a3a59a90a044425935dbb409cce59ea"
       ],
       "layout": "IPY_MODEL_33b2739990b8450293f1ceaa806f2daa"
      }
     },
     "c79a0bba9d264b01943a16465d25b3c0": {
      "model_module": "@jupyter-widgets/controls",
      "model_module_version": "2.0.0",
      "model_name": "HTMLModel",
      "state": {
       "layout": "IPY_MODEL_47437e1c733a46d2b48aca17948df370",
       "style": "IPY_MODEL_a18f81b271ce448aa2a521a2c61eccef",
       "value": " 6000/6000 [15:19&lt;00:00,  6.34images/s]"
      }
     },
     "c86ac49d5df34677a244b2d659753b6a": {
      "model_module": "@jupyter-widgets/base",
      "model_module_version": "2.0.0",
      "model_name": "LayoutModel",
      "state": {}
     },
     "c8890e71b56948dd9e44c153839a469b": {
      "model_module": "@jupyter-widgets/controls",
      "model_module_version": "2.0.0",
      "model_name": "ProgressStyleModel",
      "state": {
       "description_width": ""
      }
     },
     "ca0f7762d9234ffcbf3778ae4dfe54b7": {
      "model_module": "@jupyter-widgets/controls",
      "model_module_version": "2.0.0",
      "model_name": "HTMLStyleModel",
      "state": {
       "description_width": "",
       "font_size": null,
       "text_color": null
      }
     },
     "ca587bd8fd4b415a8d8d2122f7c91fb0": {
      "model_module": "@jupyter-widgets/controls",
      "model_module_version": "2.0.0",
      "model_name": "HTMLStyleModel",
      "state": {
       "description_width": "",
       "font_size": null,
       "text_color": null
      }
     },
     "cd33863f988b40b799f89f5be7148a24": {
      "model_module": "@jupyter-widgets/base",
      "model_module_version": "2.0.0",
      "model_name": "LayoutModel",
      "state": {}
     },
     "d24b43ba9cf74f3e80da796cee28c2a2": {
      "model_module": "@jupyter-widgets/controls",
      "model_module_version": "2.0.0",
      "model_name": "HTMLStyleModel",
      "state": {
       "description_width": "",
       "font_size": null,
       "text_color": null
      }
     },
     "d4adb6f8dc72430a8f1a9ab19d0a784b": {
      "model_module": "@jupyter-widgets/controls",
      "model_module_version": "2.0.0",
      "model_name": "FloatProgressModel",
      "state": {
       "bar_style": "success",
       "layout": "IPY_MODEL_8132b491d7f34e179b2e4d660a68b04c",
       "max": 6000,
       "style": "IPY_MODEL_bb0deb141764472eb282048d2af07969",
       "value": 6000
      }
     },
     "d5fe923cc9774eb09a67bb98fc3876ec": {
      "model_module": "@jupyter-widgets/base",
      "model_module_version": "2.0.0",
      "model_name": "LayoutModel",
      "state": {}
     },
     "d647e4df62c04dc291e472f700d2ac4d": {
      "model_module": "@jupyter-widgets/controls",
      "model_module_version": "2.0.0",
      "model_name": "ProgressStyleModel",
      "state": {
       "description_width": ""
      }
     },
     "d8416f7162c345ee93aaac3ead16285a": {
      "model_module": "@jupyter-widgets/base",
      "model_module_version": "2.0.0",
      "model_name": "LayoutModel",
      "state": {}
     },
     "d8610cc05dd740aab9d3f02f493988a8": {
      "model_module": "@jupyter-widgets/controls",
      "model_module_version": "2.0.0",
      "model_name": "FloatProgressModel",
      "state": {
       "bar_style": "success",
       "layout": "IPY_MODEL_b1a193e7650e4a60a17d0559170f9144",
       "max": 6000,
       "style": "IPY_MODEL_ed4522b35cbc4efc8367f28ae075eaca",
       "value": 6000
      }
     },
     "da3ea6bbae9c40bca4356af553f9c353": {
      "model_module": "@jupyter-widgets/base",
      "model_module_version": "2.0.0",
      "model_name": "LayoutModel",
      "state": {}
     },
     "dc10390d57c942278543e08e52e1039b": {
      "model_module": "@jupyter-widgets/controls",
      "model_module_version": "2.0.0",
      "model_name": "HTMLStyleModel",
      "state": {
       "description_width": "",
       "font_size": null,
       "text_color": null
      }
     },
     "dc7e2b22dbfa475681ce5de46f91d1fb": {
      "model_module": "@jupyter-widgets/base",
      "model_module_version": "2.0.0",
      "model_name": "LayoutModel",
      "state": {}
     },
     "dd077606136e4bf5a390d8a8bbd1dc68": {
      "model_module": "@jupyter-widgets/controls",
      "model_module_version": "2.0.0",
      "model_name": "ProgressStyleModel",
      "state": {
       "description_width": ""
      }
     },
     "dd3856a44a93485e803693c53481094f": {
      "model_module": "@jupyter-widgets/base",
      "model_module_version": "2.0.0",
      "model_name": "LayoutModel",
      "state": {}
     },
     "dea8af9fae2a4027a567695bd9fc882c": {
      "model_module": "@jupyter-widgets/base",
      "model_module_version": "2.0.0",
      "model_name": "LayoutModel",
      "state": {}
     },
     "e1eb93ac349341f7ab8a223c827ba041": {
      "model_module": "@jupyter-widgets/controls",
      "model_module_version": "2.0.0",
      "model_name": "FloatProgressModel",
      "state": {
       "layout": "IPY_MODEL_bb9e7eb9e8a4434ba62de344aa42f9a7",
       "max": 6000,
       "style": "IPY_MODEL_e22d5a98cee2474195d63acfe2a7627a",
       "value": 11
      }
     },
     "e22d5a98cee2474195d63acfe2a7627a": {
      "model_module": "@jupyter-widgets/controls",
      "model_module_version": "2.0.0",
      "model_name": "ProgressStyleModel",
      "state": {
       "description_width": ""
      }
     },
     "e24fe18297f84a8e87de6c613a7994b0": {
      "model_module": "@jupyter-widgets/base",
      "model_module_version": "2.0.0",
      "model_name": "LayoutModel",
      "state": {}
     },
     "e3a1357d12b04c959b499711339b20dc": {
      "model_module": "@jupyter-widgets/base",
      "model_module_version": "2.0.0",
      "model_name": "LayoutModel",
      "state": {}
     },
     "e4649170390c44899d5346e4b9ef6da0": {
      "model_module": "@jupyter-widgets/controls",
      "model_module_version": "2.0.0",
      "model_name": "HTMLStyleModel",
      "state": {
       "description_width": "",
       "font_size": null,
       "text_color": null
      }
     },
     "e54665fd9b2b4c85945624666127c7c3": {
      "model_module": "@jupyter-widgets/base",
      "model_module_version": "2.0.0",
      "model_name": "LayoutModel",
      "state": {}
     },
     "e72c457a19e44d8d97c5530425ec70ae": {
      "model_module": "@jupyter-widgets/controls",
      "model_module_version": "2.0.0",
      "model_name": "FloatProgressModel",
      "state": {
       "bar_style": "success",
       "layout": "IPY_MODEL_dea8af9fae2a4027a567695bd9fc882c",
       "max": 6000,
       "style": "IPY_MODEL_99ac278da6ef435abb04e9f597b12220",
       "value": 6000
      }
     },
     "e796fa58f6274e999879116e667dbb28": {
      "model_module": "@jupyter-widgets/controls",
      "model_module_version": "2.0.0",
      "model_name": "HTMLModel",
      "state": {
       "layout": "IPY_MODEL_4f22dae5abed4e1ab271f2cae3b74f1e",
       "style": "IPY_MODEL_7b580042f03e451bb2d9791ff47ae27e",
       "value": " 6000/6000 [00:04&lt;00:00, 1792.71images/s]"
      }
     },
     "e91c0355932c4b1f8268428fe5a0fc0f": {
      "model_module": "@jupyter-widgets/controls",
      "model_module_version": "2.0.0",
      "model_name": "HTMLModel",
      "state": {
       "layout": "IPY_MODEL_8c70c0a841ea4603868da9ea5613fc18",
       "style": "IPY_MODEL_791fcf25ba4e48a284cb02ce2827e3ce",
       "value": "Processing images labeled &#x27;Safe Driving&#x27;:   0%"
      }
     },
     "ea4d1bfe7e7840deba177719e34aade0": {
      "model_module": "@jupyter-widgets/base",
      "model_module_version": "2.0.0",
      "model_name": "LayoutModel",
      "state": {}
     },
     "eab6e583d49f431c992a32e753cf04ee": {
      "model_module": "@jupyter-widgets/controls",
      "model_module_version": "2.0.0",
      "model_name": "HTMLModel",
      "state": {
       "layout": "IPY_MODEL_5aac91b6ff9b442083f14966da63686a",
       "style": "IPY_MODEL_bbc7acdb71f746f3b621a5176bc8c288",
       "value": " 6000/6000 [00:04&lt;00:00, 1660.72images/s]"
      }
     },
     "eb4174a2b9a14123ac003796f84a3952": {
      "model_module": "@jupyter-widgets/controls",
      "model_module_version": "2.0.0",
      "model_name": "HTMLModel",
      "state": {
       "layout": "IPY_MODEL_e24fe18297f84a8e87de6c613a7994b0",
       "style": "IPY_MODEL_2e3375af19834050bd8718c76c679523",
       "value": "100%"
      }
     },
     "ec73a9574c1248b1b27fe9b5734a7eda": {
      "model_module": "@jupyter-widgets/controls",
      "model_module_version": "2.0.0",
      "model_name": "HTMLModel",
      "state": {
       "layout": "IPY_MODEL_e54665fd9b2b4c85945624666127c7c3",
       "style": "IPY_MODEL_17b1426ec6af49d3ad9aa796fb9e6055",
       "value": " 22424/22424 [52:57&lt;00:00,  7.13files/s]"
      }
     },
     "ed4522b35cbc4efc8367f28ae075eaca": {
      "model_module": "@jupyter-widgets/controls",
      "model_module_version": "2.0.0",
      "model_name": "ProgressStyleModel",
      "state": {
       "description_width": ""
      }
     },
     "ee4e47a565aa4c39893de77eac3e6bdd": {
      "model_module": "@jupyter-widgets/controls",
      "model_module_version": "2.0.0",
      "model_name": "HTMLModel",
      "state": {
       "layout": "IPY_MODEL_59600c32ed9d449880f688cf9509e9bc",
       "style": "IPY_MODEL_101dfd8090de4fd5a5968021ee14de89",
       "value": " 6000/6000 [00:48&lt;00:00, 139.51images/s]"
      }
     },
     "f0a99de1a69b421a9ba360e3b7db0225": {
      "model_module": "@jupyter-widgets/controls",
      "model_module_version": "2.0.0",
      "model_name": "FloatProgressModel",
      "state": {
       "bar_style": "success",
       "layout": "IPY_MODEL_25cea0bf83de46c3ac11ad7d4cf62bda",
       "max": 6000,
       "style": "IPY_MODEL_abf09432fdcb46f6b9cbbe621e8a037a",
       "value": 6000
      }
     },
     "f0da513c90064994a5a1b704c19e99c7": {
      "model_module": "@jupyter-widgets/controls",
      "model_module_version": "2.0.0",
      "model_name": "HTMLModel",
      "state": {
       "layout": "IPY_MODEL_f17453d0097e476fabccccc2fb0c3304",
       "style": "IPY_MODEL_751d63b1cbc44cb98c4e4fea9f51bfc3",
       "value": " 6000/6000 [01:35&lt;00:00, 64.20samples/s]"
      }
     },
     "f1216a86f32c45da86161d91e11ac5e9": {
      "model_module": "@jupyter-widgets/controls",
      "model_module_version": "2.0.0",
      "model_name": "HBoxModel",
      "state": {
       "children": [
        "IPY_MODEL_69a12d1c26a54b6b8cc941f33af37288",
        "IPY_MODEL_9838af1bd2354431ba8fd19fce50e9df",
        "IPY_MODEL_23393aad11564a03b19c23e5a11c6a1f"
       ],
       "layout": "IPY_MODEL_fd57f3984fa5486e904c4be97532499e"
      }
     },
     "f17453d0097e476fabccccc2fb0c3304": {
      "model_module": "@jupyter-widgets/base",
      "model_module_version": "2.0.0",
      "model_name": "LayoutModel",
      "state": {}
     },
     "f25e2e2ee0794c369ca085a5a9b2e714": {
      "model_module": "@jupyter-widgets/controls",
      "model_module_version": "2.0.0",
      "model_name": "HBoxModel",
      "state": {
       "children": [
        "IPY_MODEL_eb4174a2b9a14123ac003796f84a3952",
        "IPY_MODEL_b4036f5852d140acb6973c6b84567e1b",
        "IPY_MODEL_ec73a9574c1248b1b27fe9b5734a7eda"
       ],
       "layout": "IPY_MODEL_154336cb67be45f38e2b513c393c6358"
      }
     },
     "f33d290f533d4a9592fb2d65ee36e207": {
      "model_module": "@jupyter-widgets/controls",
      "model_module_version": "2.0.0",
      "model_name": "HTMLStyleModel",
      "state": {
       "description_width": "",
       "font_size": null,
       "text_color": null
      }
     },
     "f4f3debc6e3f42bb9585ac4ccf15c922": {
      "model_module": "@jupyter-widgets/controls",
      "model_module_version": "2.0.0",
      "model_name": "HTMLStyleModel",
      "state": {
       "description_width": "",
       "font_size": null,
       "text_color": null
      }
     },
     "f557c9b7127b4290a77e7ca7529d34f3": {
      "model_module": "@jupyter-widgets/controls",
      "model_module_version": "2.0.0",
      "model_name": "ProgressStyleModel",
      "state": {
       "description_width": ""
      }
     },
     "f6497005f7c34d0982eafd1a1818c28c": {
      "model_module": "@jupyter-widgets/controls",
      "model_module_version": "2.0.0",
      "model_name": "HTMLModel",
      "state": {
       "layout": "IPY_MODEL_9d15eea1c08a4e0ea40940024c63f0a6",
       "style": "IPY_MODEL_bc02bfb3aa2c405b9f105b2824e40461",
       "value": "Processing images labeled &#x27;Conversing&#x27;:   0%"
      }
     },
     "fd57f3984fa5486e904c4be97532499e": {
      "model_module": "@jupyter-widgets/base",
      "model_module_version": "2.0.0",
      "model_name": "LayoutModel",
      "state": {}
     },
     "ff4c3a78ba2a4b87bfb7b438d6dadc67": {
      "model_module": "@jupyter-widgets/controls",
      "model_module_version": "2.0.0",
      "model_name": "HBoxModel",
      "state": {
       "children": [
        "IPY_MODEL_472c66055576412982a02409dcf08bd1",
        "IPY_MODEL_f0a99de1a69b421a9ba360e3b7db0225",
        "IPY_MODEL_7bf4804e27454e02ae8202650452bef8"
       ],
       "layout": "IPY_MODEL_3978e6320d7e4d869fe142526c90e2b7"
      }
     }
    },
    "version_major": 2,
    "version_minor": 0
   }
  }
 },
 "nbformat": 4,
 "nbformat_minor": 5
}
